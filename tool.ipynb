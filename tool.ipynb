{
  "nbformat": 4,
  "nbformat_minor": 0,
  "metadata": {
    "colab": {
      "provenance": [],
      "authorship_tag": "ABX9TyPWvFjM/9NtdMbGS6VUptMt",
      "include_colab_link": true
    },
    "kernelspec": {
      "name": "python3",
      "display_name": "Python 3"
    },
    "language_info": {
      "name": "python"
    }
  },
  "cells": [
    {
      "cell_type": "markdown",
      "metadata": {
        "id": "view-in-github",
        "colab_type": "text"
      },
      "source": [
        "<a href=\"https://colab.research.google.com/github/sasazan18/tool-creation/blob/main/tool.ipynb\" target=\"_parent\"><img src=\"https://colab.research.google.com/assets/colab-badge.svg\" alt=\"Open In Colab\"/></a>"
      ]
    },
    {
      "cell_type": "code",
      "source": [
        "from langchain_core.tools import tool"
      ],
      "metadata": {
        "id": "zi5EOSLkCZSG"
      },
      "execution_count": null,
      "outputs": []
    },
    {
      "cell_type": "code",
      "source": [
        "# step 1 - creatin a function\n",
        "\n",
        "def multiply (a,b):\n",
        "  \"\"\"Multiply two numbers\"\"\"\n",
        "  return a*b"
      ],
      "metadata": {
        "id": "FNX7jPw_Co5p"
      },
      "execution_count": null,
      "outputs": []
    },
    {
      "cell_type": "code",
      "source": [
        "# step 2 - add type hints\n",
        "\n",
        "def multiply (a: int, b: int) -> int:\n",
        "  \"\"\"Multiply two numbers\"\"\"\n",
        "  return a*b"
      ],
      "metadata": {
        "id": "b2pCTR_z9x34"
      },
      "execution_count": null,
      "outputs": []
    },
    {
      "cell_type": "code",
      "source": [
        "# step 3 - add tool decorator\n",
        "\n",
        "@tool\n",
        "def multiply (a: int, b: int) -> int:\n",
        "  \"\"\"Multiply two numbers\"\"\"\n",
        "  return a*b"
      ],
      "metadata": {
        "id": "6wXH_LmR-F0n"
      },
      "execution_count": null,
      "outputs": []
    },
    {
      "cell_type": "code",
      "source": [
        "result = multiply.invoke({\n",
        "    \"a\":3,\n",
        "    \"b\":5\n",
        "})"
      ],
      "metadata": {
        "id": "tTn8AdpU-Q6l"
      },
      "execution_count": null,
      "outputs": []
    },
    {
      "cell_type": "code",
      "source": [
        "print(result)"
      ],
      "metadata": {
        "colab": {
          "base_uri": "https://localhost:8080/"
        },
        "id": "nAFKYWY0-m5H",
        "outputId": "1bd0c0a1-f5d2-4cda-928d-a14a9eb48b04"
      },
      "execution_count": null,
      "outputs": [
        {
          "output_type": "stream",
          "name": "stdout",
          "text": [
            "15\n"
          ]
        }
      ]
    },
    {
      "cell_type": "code",
      "source": [
        "print(multiply.name)\n",
        "print(multiply.description)\n",
        "print(multiply.args)\n"
      ],
      "metadata": {
        "colab": {
          "base_uri": "https://localhost:8080/"
        },
        "id": "zqbL6oev-vo3",
        "outputId": "1f03ecb3-e447-4256-b0c5-33a46b256b55"
      },
      "execution_count": null,
      "outputs": [
        {
          "output_type": "stream",
          "name": "stdout",
          "text": [
            "multiply\n",
            "Multiply two numbers\n",
            "{'a': {'title': 'A', 'type': 'integer'}, 'b': {'title': 'B', 'type': 'integer'}}\n"
          ]
        }
      ]
    }
  ]
}